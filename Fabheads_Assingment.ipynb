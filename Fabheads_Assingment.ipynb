{
  "nbformat": 4,
  "nbformat_minor": 0,
  "metadata": {
    "colab": {
      "name": "Fabheads_Assingment",
      "provenance": [],
      "collapsed_sections": []
    },
    "kernelspec": {
      "name": "python3",
      "display_name": "Python 3"
    },
    "language_info": {
      "name": "python"
    }
  },
  "cells": [
    {
      "cell_type": "code",
      "source": [
        "import numpy as np\n",
        "from struct import unpack\n",
        "\n",
        "def BinarySTL(fname):\n",
        "  fopn = open(fname,'rb')\n",
        "  Header = fopn.read(80)\n",
        "  nt = fopn.read(4)\n",
        "  Numtriag = unpack('i',nt)[0]\n",
        "  record_dtype = np.dtype([('normals',np.float32,(3,)),\n",
        "  ('Vertex1',np.float32,(3,)),\n",
        "  ('Vertex2',np.float32,(3,)),\n",
        "  ('Vertex3',np.float32,(3,)),\n",
        "  ('attr','<i2',(1,))])\n",
        "  data = np.fromfile(fopn,dtype = record_dtype,count = Numtriag)\n",
        "  fopn.close()\n",
        "  Normals = data['normals']\n",
        "  Vertex1 = data['Vertex1']\n",
        "  Vertex2 = data['Vertex2']\n",
        "  Vertex3 = data['Vertex3']\n",
        "  p = np.append(Vertex1,Vertex2,axis = 0)\n",
        "  p = np.append(p,Vertex3,axis = 0)\n",
        "  Points = np.array(list(set(tuple(p11) for p11 in p)))\n",
        "  return Header,Points,Normals,Vertex1,Vertex2,Vertex3\n",
        "  \n",
        "  if __name__ == '__main__':\n",
        "    fname = \"/content/drive/MyDrive/assignment.STL.stl\"\n",
        "    head,p,n,v1,v2,v3 = BinarySTL(fname)\n",
        "    print(head)\n",
        "    print(p.shape)"
      ],
      "metadata": {
        "id": "UI6w3x3J1V50"
      },
      "execution_count": 7,
      "outputs": []
    },
    {
      "cell_type": "code",
      "source": [
        ""
      ],
      "metadata": {
        "id": "yV5TEpry5TZa"
      },
      "execution_count": 37,
      "outputs": []
    }
  ]
}